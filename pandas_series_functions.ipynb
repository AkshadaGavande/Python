{
 "cells": [
  {
   "attachments": {
    "series%20funtions.png": {
     "image/png": "[encoded data removed]"
    }
   },
   "cell_type": "markdown",
   "metadata": {},
   "source": [
    "# Series Basic Functionality\n",
    "\n",
    "![series%20funtions.png](attachment:series%20funtions.png)"
   ]
  },
  {
   "cell_type": "code",
   "execution_count": 1,
   "metadata": {},
   "outputs": [
    {
     "name": "stdout",
     "output_type": "stream",
     "text": [
      "The axes are:\n",
      "[RangeIndex(start=0, stop=4, step=1)]\n"
     ]
    }
   ],
   "source": [
    "#Example\n",
    "#  1. axes:Returns the list of the labels of the series.\n",
    "\n",
    "import pandas as pd\n",
    "import numpy as np\n",
    "\n",
    "#Create a series with 4random numbers\n",
    "s = pd.Series(np.random.randn(4))\n",
    "print (\"The axes are:\")\n",
    "print(s.axes)"
   ]
  },
  {
   "cell_type": "code",
   "execution_count": 7,
   "metadata": {},
   "outputs": [
    {
     "name": "stdout",
     "output_type": "stream",
     "text": [
      "data type of object is :\n",
      "float64\n"
     ]
    }
   ],
   "source": [
    "# 2.dtype: Returns data type of object\n",
    "\n",
    "print(\"data type of object is :\")\n",
    "print(s.dtype)"
   ]
  },
  {
   "cell_type": "code",
   "execution_count": 2,
   "metadata": {},
   "outputs": [
    {
     "name": "stdout",
     "output_type": "stream",
     "text": [
      "Is the Object empty?\n",
      "False\n"
     ]
    }
   ],
   "source": [
    "# 3.empty:Returns the Boolean value saying whether the Object is empty or not. True indicates that the object is empty.\n",
    "\n",
    "print (\"Is the Object empty?\")\n",
    "print(s.empty)"
   ]
  },
  {
   "cell_type": "code",
   "execution_count": 3,
   "metadata": {},
   "outputs": [
    {
     "name": "stdout",
     "output_type": "stream",
     "text": [
      "The dimensions of the object:\n",
      "1\n"
     ]
    }
   ],
   "source": [
    "# 4.ndim:Returns the number of dimensions of the object. \n",
    "\n",
    "print (\"The dimensions of the object:\")\n",
    "print(s.ndim)"
   ]
  },
  {
   "cell_type": "code",
   "execution_count": 4,
   "metadata": {},
   "outputs": [
    {
     "name": "stdout",
     "output_type": "stream",
     "text": [
      "The size of the object:\n",
      "4\n"
     ]
    }
   ],
   "source": [
    "# 5.size:Returns the size(length) of the series.\n",
    "\n",
    "print (\"The size of the object:\")\n",
    "print(s.size)"
   ]
  },
  {
   "cell_type": "code",
   "execution_count": 5,
   "metadata": {},
   "outputs": [
    {
     "name": "stdout",
     "output_type": "stream",
     "text": [
      "The actual data series is:\n",
      "[-1.27044243 -1.38728887 -0.81706234 -0.54441808]\n"
     ]
    }
   ],
   "source": [
    "# 6.values: Returns the actual data in the series as an array.\n",
    "\n",
    "print (\"The actual data series is:\")\n",
    "print(s.values)"
   ]
  },
  {
   "cell_type": "code",
   "execution_count": 8,
   "metadata": {},
   "outputs": [
    {
     "name": "stdout",
     "output_type": "stream",
     "text": [
      "first 3 rows :\n",
      "0   -1.270442\n",
      "1   -1.387289\n",
      "2   -0.817062\n",
      "dtype: float64\n"
     ]
    }
   ],
   "source": [
    "# 7.head: To view a small sample of a Series or the DataFrame object(first few rows)\n",
    "print('first 3 rows :')\n",
    "print(s.head(3))"
   ]
  },
  {
   "cell_type": "code",
   "execution_count": 9,
   "metadata": {},
   "outputs": [
    {
     "name": "stdout",
     "output_type": "stream",
     "text": [
      "last 3 rows :\n",
      "1   -1.387289\n",
      "2   -0.817062\n",
      "3   -0.544418\n",
      "dtype: float64\n"
     ]
    }
   ],
   "source": [
    "# 8.head: To view a small sample of a Series or the DataFrame object(last few rows)\n",
    "print('last 3 rows :')\n",
    "print(s.tail(3))"
   ]
  },
  {
   "cell_type": "code",
   "execution_count": null,
   "metadata": {},
   "outputs": [],
   "source": []
  }
 ],
 "metadata": {
  "kernelspec": {
   "display_name": "Python 3",
   "language": "python",
   "name": "python3"
  },
  "language_info": {
   "codemirror_mode": {
    "name": "ipython",
    "version": 3
   },
   "file_extension": ".py",
   "mimetype": "text/x-python",
   "name": "python",
   "nbconvert_exporter": "python",
   "pygments_lexer": "ipython3",
   "version": "3.6.5"
  }
 },
 "nbformat": 4,
 "nbformat_minor": 2
}
